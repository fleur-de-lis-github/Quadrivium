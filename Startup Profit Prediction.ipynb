{
 "cells": [
  {
   "cell_type": "markdown",
   "metadata": {},
   "source": [
    "# Startup Profit Prediction\n",
    "\n",
    "## Author: Spriha Ghosh"
   ]
  },
  {
   "cell_type": "code",
   "execution_count": 2,
   "metadata": {
    "_cell_guid": "b1076dfc-b9ad-4769-8c92-a6c4dae69d19",
    "_uuid": "8f2839f25d086af736a60e9eeb907d3b93b6e0e5",
    "execution": {
     "iopub.execute_input": "2021-10-01T07:31:52.573589Z",
     "iopub.status.busy": "2021-10-01T07:31:52.573296Z",
     "iopub.status.idle": "2021-10-01T07:31:52.592301Z",
     "shell.execute_reply": "2021-10-01T07:31:52.590917Z",
     "shell.execute_reply.started": "2021-10-01T07:31:52.573559Z"
    }
   },
   "outputs": [],
   "source": [
    "import numpy as np # linear algebra\n",
    "import pandas as pd # data processing \n",
    "\n",
    "# Input data files are available in the read-only \"../input/\" directory\n",
    "\n",
    "import os\n",
    "for dirname, _, filenames in os.walk('/kaggle/input'):\n",
    "    for filename in filenames:\n",
    "        print(os.path.join(dirname, filename))"
   ]
  },
  {
   "cell_type": "code",
   "execution_count": 3,
   "metadata": {
    "execution": {
     "iopub.execute_input": "2021-10-01T07:31:52.593824Z",
     "iopub.status.busy": "2021-10-01T07:31:52.593594Z",
     "iopub.status.idle": "2021-10-01T07:31:54.164399Z",
     "shell.execute_reply": "2021-10-01T07:31:54.163550Z",
     "shell.execute_reply.started": "2021-10-01T07:31:52.593795Z"
    }
   },
   "outputs": [],
   "source": [
    "import seaborn as sb\n",
    "from sklearn import preprocessing \n",
    "from scipy import stats\n",
    "from statsmodels.stats.outliers_influence import variance_inflation_factor\n",
    "import matplotlib.pyplot as plt\n",
    "from sklearn.model_selection import train_test_split\n",
    "from sklearn.ensemble import RandomForestRegressor"
   ]
  },
  {
   "cell_type": "code",
   "execution_count": 4,
   "metadata": {
    "execution": {
     "iopub.execute_input": "2021-10-01T07:31:54.166411Z",
     "iopub.status.busy": "2021-10-01T07:31:54.165697Z",
     "iopub.status.idle": "2021-10-01T07:31:54.204883Z",
     "shell.execute_reply": "2021-10-01T07:31:54.203341Z",
     "shell.execute_reply.started": "2021-10-01T07:31:54.166378Z"
    }
   },
   "outputs": [
    {
     "data": {
      "text/html": [
       "<div>\n",
       "<style scoped>\n",
       "    .dataframe tbody tr th:only-of-type {\n",
       "        vertical-align: middle;\n",
       "    }\n",
       "\n",
       "    .dataframe tbody tr th {\n",
       "        vertical-align: top;\n",
       "    }\n",
       "\n",
       "    .dataframe thead th {\n",
       "        text-align: right;\n",
       "    }\n",
       "</style>\n",
       "<table border=\"1\" class=\"dataframe\">\n",
       "  <thead>\n",
       "    <tr style=\"text-align: right;\">\n",
       "      <th></th>\n",
       "      <th>R&amp;D Spend</th>\n",
       "      <th>Administration</th>\n",
       "      <th>Marketing Spend</th>\n",
       "      <th>State</th>\n",
       "      <th>Profit</th>\n",
       "    </tr>\n",
       "  </thead>\n",
       "  <tbody>\n",
       "    <tr>\n",
       "      <th>0</th>\n",
       "      <td>165349.20</td>\n",
       "      <td>136897.80</td>\n",
       "      <td>471784.10</td>\n",
       "      <td>New York</td>\n",
       "      <td>192261.83</td>\n",
       "    </tr>\n",
       "    <tr>\n",
       "      <th>1</th>\n",
       "      <td>162597.70</td>\n",
       "      <td>151377.59</td>\n",
       "      <td>443898.53</td>\n",
       "      <td>California</td>\n",
       "      <td>191792.06</td>\n",
       "    </tr>\n",
       "    <tr>\n",
       "      <th>2</th>\n",
       "      <td>153441.51</td>\n",
       "      <td>101145.55</td>\n",
       "      <td>407934.54</td>\n",
       "      <td>Florida</td>\n",
       "      <td>191050.39</td>\n",
       "    </tr>\n",
       "    <tr>\n",
       "      <th>3</th>\n",
       "      <td>144372.41</td>\n",
       "      <td>118671.85</td>\n",
       "      <td>383199.62</td>\n",
       "      <td>New York</td>\n",
       "      <td>182901.99</td>\n",
       "    </tr>\n",
       "    <tr>\n",
       "      <th>4</th>\n",
       "      <td>142107.34</td>\n",
       "      <td>91391.77</td>\n",
       "      <td>366168.42</td>\n",
       "      <td>Florida</td>\n",
       "      <td>166187.94</td>\n",
       "    </tr>\n",
       "  </tbody>\n",
       "</table>\n",
       "</div>"
      ],
      "text/plain": [
       "   R&D Spend  Administration  Marketing Spend       State     Profit\n",
       "0  165349.20       136897.80        471784.10    New York  192261.83\n",
       "1  162597.70       151377.59        443898.53  California  191792.06\n",
       "2  153441.51       101145.55        407934.54     Florida  191050.39\n",
       "3  144372.41       118671.85        383199.62    New York  182901.99\n",
       "4  142107.34        91391.77        366168.42     Florida  166187.94"
      ]
     },
     "execution_count": 4,
     "metadata": {},
     "output_type": "execute_result"
    }
   ],
   "source": [
    "df = pd.read_csv('../input/50-startups-data/50_Startups.csv')\n",
    "df.head()"
   ]
  },
  {
   "cell_type": "code",
   "execution_count": 5,
   "metadata": {
    "execution": {
     "iopub.execute_input": "2021-10-01T07:33:05.195512Z",
     "iopub.status.busy": "2021-10-01T07:33:05.195173Z",
     "iopub.status.idle": "2021-10-01T07:33:05.200797Z",
     "shell.execute_reply": "2021-10-01T07:33:05.199503Z",
     "shell.execute_reply.started": "2021-10-01T07:33:05.195464Z"
    }
   },
   "outputs": [],
   "source": [
    "# but, we need to encode 'State' attribute\n",
    "label_encoder = preprocessing.LabelEncoder()  # encoding data"
   ]
  },
  {
   "cell_type": "code",
   "execution_count": 6,
   "metadata": {
    "execution": {
     "iopub.execute_input": "2021-10-01T07:33:31.461863Z",
     "iopub.status.busy": "2021-10-01T07:33:31.461436Z",
     "iopub.status.idle": "2021-10-01T07:33:31.485137Z",
     "shell.execute_reply": "2021-10-01T07:33:31.483977Z",
     "shell.execute_reply.started": "2021-10-01T07:33:31.461831Z"
    }
   },
   "outputs": [
    {
     "data": {
      "text/html": [
       "<div>\n",
       "<style scoped>\n",
       "    .dataframe tbody tr th:only-of-type {\n",
       "        vertical-align: middle;\n",
       "    }\n",
       "\n",
       "    .dataframe tbody tr th {\n",
       "        vertical-align: top;\n",
       "    }\n",
       "\n",
       "    .dataframe thead th {\n",
       "        text-align: right;\n",
       "    }\n",
       "</style>\n",
       "<table border=\"1\" class=\"dataframe\">\n",
       "  <thead>\n",
       "    <tr style=\"text-align: right;\">\n",
       "      <th></th>\n",
       "      <th>R&amp;D Spend</th>\n",
       "      <th>Administration</th>\n",
       "      <th>Marketing Spend</th>\n",
       "      <th>State</th>\n",
       "      <th>Profit</th>\n",
       "    </tr>\n",
       "  </thead>\n",
       "  <tbody>\n",
       "    <tr>\n",
       "      <th>0</th>\n",
       "      <td>165349.20</td>\n",
       "      <td>136897.80</td>\n",
       "      <td>471784.10</td>\n",
       "      <td>2</td>\n",
       "      <td>192261.83</td>\n",
       "    </tr>\n",
       "    <tr>\n",
       "      <th>1</th>\n",
       "      <td>162597.70</td>\n",
       "      <td>151377.59</td>\n",
       "      <td>443898.53</td>\n",
       "      <td>0</td>\n",
       "      <td>191792.06</td>\n",
       "    </tr>\n",
       "    <tr>\n",
       "      <th>2</th>\n",
       "      <td>153441.51</td>\n",
       "      <td>101145.55</td>\n",
       "      <td>407934.54</td>\n",
       "      <td>1</td>\n",
       "      <td>191050.39</td>\n",
       "    </tr>\n",
       "    <tr>\n",
       "      <th>3</th>\n",
       "      <td>144372.41</td>\n",
       "      <td>118671.85</td>\n",
       "      <td>383199.62</td>\n",
       "      <td>2</td>\n",
       "      <td>182901.99</td>\n",
       "    </tr>\n",
       "    <tr>\n",
       "      <th>4</th>\n",
       "      <td>142107.34</td>\n",
       "      <td>91391.77</td>\n",
       "      <td>366168.42</td>\n",
       "      <td>1</td>\n",
       "      <td>166187.94</td>\n",
       "    </tr>\n",
       "  </tbody>\n",
       "</table>\n",
       "</div>"
      ],
      "text/plain": [
       "   R&D Spend  Administration  Marketing Spend  State     Profit\n",
       "0  165349.20       136897.80        471784.10      2  192261.83\n",
       "1  162597.70       151377.59        443898.53      0  191792.06\n",
       "2  153441.51       101145.55        407934.54      1  191050.39\n",
       "3  144372.41       118671.85        383199.62      2  182901.99\n",
       "4  142107.34        91391.77        366168.42      1  166187.94"
      ]
     },
     "execution_count": 6,
     "metadata": {},
     "output_type": "execute_result"
    }
   ],
   "source": [
    "df['State'] = df['State'].astype('|S')\n",
    "df['State'] = label_encoder.fit_transform(df['State'])\n",
    "df.head()"
   ]
  },
  {
   "cell_type": "code",
   "execution_count": 7,
   "metadata": {
    "execution": {
     "iopub.execute_input": "2021-10-01T07:36:53.019342Z",
     "iopub.status.busy": "2021-10-01T07:36:53.019047Z",
     "iopub.status.idle": "2021-10-01T07:36:53.029429Z",
     "shell.execute_reply": "2021-10-01T07:36:53.028219Z",
     "shell.execute_reply.started": "2021-10-01T07:36:53.019310Z"
    }
   },
   "outputs": [
    {
     "data": {
      "text/plain": [
       "R&D Spend          False\n",
       "Administration     False\n",
       "Marketing Spend    False\n",
       "State              False\n",
       "Profit             False\n",
       "dtype: bool"
      ]
     },
     "execution_count": 7,
     "metadata": {},
     "output_type": "execute_result"
    }
   ],
   "source": [
    "# checking for null values\n",
    "df.isnull().any()"
   ]
  },
  {
   "cell_type": "code",
   "execution_count": 8,
   "metadata": {
    "execution": {
     "iopub.execute_input": "2021-10-01T07:37:06.966686Z",
     "iopub.status.busy": "2021-10-01T07:37:06.965670Z",
     "iopub.status.idle": "2021-10-01T07:37:06.974821Z",
     "shell.execute_reply": "2021-10-01T07:37:06.973417Z",
     "shell.execute_reply.started": "2021-10-01T07:37:06.966643Z"
    }
   },
   "outputs": [
    {
     "data": {
      "text/plain": [
       "Index(['R&D Spend', 'Administration', 'Marketing Spend', 'State', 'Profit'], dtype='object')"
      ]
     },
     "execution_count": 8,
     "metadata": {},
     "output_type": "execute_result"
    }
   ],
   "source": [
    "df.columns"
   ]
  },
  {
   "cell_type": "code",
   "execution_count": 9,
   "metadata": {
    "execution": {
     "iopub.execute_input": "2021-10-01T07:37:19.653827Z",
     "iopub.status.busy": "2021-10-01T07:37:19.653172Z",
     "iopub.status.idle": "2021-10-01T07:37:19.698652Z",
     "shell.execute_reply": "2021-10-01T07:37:19.697457Z",
     "shell.execute_reply.started": "2021-10-01T07:37:19.653795Z"
    }
   },
   "outputs": [
    {
     "data": {
      "text/html": [
       "<div>\n",
       "<style scoped>\n",
       "    .dataframe tbody tr th:only-of-type {\n",
       "        vertical-align: middle;\n",
       "    }\n",
       "\n",
       "    .dataframe tbody tr th {\n",
       "        vertical-align: top;\n",
       "    }\n",
       "\n",
       "    .dataframe thead th {\n",
       "        text-align: right;\n",
       "    }\n",
       "</style>\n",
       "<table border=\"1\" class=\"dataframe\">\n",
       "  <thead>\n",
       "    <tr style=\"text-align: right;\">\n",
       "      <th></th>\n",
       "      <th>VIF</th>\n",
       "      <th>Features</th>\n",
       "    </tr>\n",
       "  </thead>\n",
       "  <tbody>\n",
       "    <tr>\n",
       "      <th>0</th>\n",
       "      <td>8.386322</td>\n",
       "      <td>R&amp;D Spend</td>\n",
       "    </tr>\n",
       "    <tr>\n",
       "      <th>1</th>\n",
       "      <td>4.815916</td>\n",
       "      <td>Administration</td>\n",
       "    </tr>\n",
       "    <tr>\n",
       "      <th>2</th>\n",
       "      <td>7.674608</td>\n",
       "      <td>Marketing Spend</td>\n",
       "    </tr>\n",
       "    <tr>\n",
       "      <th>3</th>\n",
       "      <td>2.382637</td>\n",
       "      <td>State</td>\n",
       "    </tr>\n",
       "  </tbody>\n",
       "</table>\n",
       "</div>"
      ],
      "text/plain": [
       "        VIF         Features\n",
       "0  8.386322        R&D Spend\n",
       "1  4.815916   Administration\n",
       "2  7.674608  Marketing Spend\n",
       "3  2.382637            State"
      ]
     },
     "execution_count": 9,
     "metadata": {},
     "output_type": "execute_result"
    }
   ],
   "source": [
    "# checking vif\n",
    "variables = df[['R&D Spend', 'Administration', 'Marketing Spend', 'State']]\n",
    "vif = pd.DataFrame()\n",
    "vif['VIF'] = [variance_inflation_factor(variables.values, i) for i in range(variables.shape[1])]\n",
    "vif['Features'] = variables.columns\n",
    "\n",
    "vif"
   ]
  },
  {
   "cell_type": "code",
   "execution_count": 10,
   "metadata": {
    "execution": {
     "iopub.execute_input": "2021-10-01T07:37:34.535766Z",
     "iopub.status.busy": "2021-10-01T07:37:34.535483Z",
     "iopub.status.idle": "2021-10-01T07:37:34.539971Z",
     "shell.execute_reply": "2021-10-01T07:37:34.538934Z",
     "shell.execute_reply.started": "2021-10-01T07:37:34.535733Z"
    }
   },
   "outputs": [],
   "source": [
    "# as vif for all attributes<10, we need not drop any of them"
   ]
  },
  {
   "cell_type": "code",
   "execution_count": 11,
   "metadata": {
    "execution": {
     "iopub.execute_input": "2021-10-01T07:37:57.627669Z",
     "iopub.status.busy": "2021-10-01T07:37:57.627071Z",
     "iopub.status.idle": "2021-10-01T07:37:57.882396Z",
     "shell.execute_reply": "2021-10-01T07:37:57.881620Z",
     "shell.execute_reply.started": "2021-10-01T07:37:57.627623Z"
    }
   },
   "outputs": [
    {
     "data": {
      "text/plain": [
       "<AxesSubplot:xlabel='R&D Spend'>"
      ]
     },
     "execution_count": 11,
     "metadata": {},
     "output_type": "execute_result"
    },
    {
     "data": {
      "image/png": "[encoded data removed]",
      "text/plain": [
       "<Figure size 432x288 with 1 Axes>"
      ]
     },
     "metadata": {
      "needs_background": "light"
     },
     "output_type": "display_data"
    }
   ],
   "source": [
    "# checking for outliners\n",
    "sb.boxplot(x=df['R&D Spend'])"
   ]
  },
  {
   "cell_type": "code",
   "execution_count": 12,
   "metadata": {
    "execution": {
     "iopub.execute_input": "2021-10-01T07:38:20.813778Z",
     "iopub.status.busy": "2021-10-01T07:38:20.813348Z",
     "iopub.status.idle": "2021-10-01T07:38:20.818843Z",
     "shell.execute_reply": "2021-10-01T07:38:20.817286Z",
     "shell.execute_reply.started": "2021-10-01T07:38:20.813748Z"
    }
   },
   "outputs": [],
   "source": [
    "# no outliners in 'R&D Spend' attribute"
   ]
  },
  {
   "cell_type": "code",
   "execution_count": 13,
   "metadata": {
    "execution": {
     "iopub.execute_input": "2021-10-01T07:38:32.814223Z",
     "iopub.status.busy": "2021-10-01T07:38:32.813903Z",
     "iopub.status.idle": "2021-10-01T07:38:33.017728Z",
     "shell.execute_reply": "2021-10-01T07:38:33.016963Z",
     "shell.execute_reply.started": "2021-10-01T07:38:32.814190Z"
    }
   },
   "outputs": [
    {
     "data": {
      "text/plain": [
       "<AxesSubplot:xlabel='Administration'>"
      ]
     },
     "execution_count": 13,
     "metadata": {},
     "output_type": "execute_result"
    },
    {
     "data": {
      "image/png": "[encoded data removed]",
      "text/plain": [
       "<Figure size 432x288 with 1 Axes>"
      ]
     },
     "metadata": {
      "needs_background": "light"
     },
     "output_type": "display_data"
    }
   ],
   "source": [
    "sb.boxplot(x=df['Administration'])"
   ]
  },
  {
   "cell_type": "code",
   "execution_count": 14,
   "metadata": {
    "execution": {
     "iopub.execute_input": "2021-10-01T07:38:50.684604Z",
     "iopub.status.busy": "2021-10-01T07:38:50.684254Z",
     "iopub.status.idle": "2021-10-01T07:38:50.689449Z",
     "shell.execute_reply": "2021-10-01T07:38:50.688312Z",
     "shell.execute_reply.started": "2021-10-01T07:38:50.684569Z"
    }
   },
   "outputs": [],
   "source": [
    "# no outliners in 'Administration' attribute"
   ]
  },
  {
   "cell_type": "code",
   "execution_count": 15,
   "metadata": {
    "execution": {
     "iopub.execute_input": "2021-10-01T07:39:01.995472Z",
     "iopub.status.busy": "2021-10-01T07:39:01.995142Z",
     "iopub.status.idle": "2021-10-01T07:39:02.346464Z",
     "shell.execute_reply": "2021-10-01T07:39:02.345007Z",
     "shell.execute_reply.started": "2021-10-01T07:39:01.995439Z"
    }
   },
   "outputs": [
    {
     "data": {
      "text/plain": [
       "<AxesSubplot:xlabel='Marketing Spend'>"
      ]
     },
     "execution_count": 15,
     "metadata": {},
     "output_type": "execute_result"
    },
    {
     "data": {
      "image/png": "[encoded data removed]",
      "text/plain": [
       "<Figure size 432x288 with 1 Axes>"
      ]
     },
     "metadata": {
      "needs_background": "light"
     },
     "output_type": "display_data"
    }
   ],
   "source": [
    "sb.boxplot(x=df['Marketing Spend'])"
   ]
  },
  {
   "cell_type": "code",
   "execution_count": 16,
   "metadata": {
    "execution": {
     "iopub.execute_input": "2021-10-01T07:39:16.702828Z",
     "iopub.status.busy": "2021-10-01T07:39:16.702335Z",
     "iopub.status.idle": "2021-10-01T07:39:16.708929Z",
     "shell.execute_reply": "2021-10-01T07:39:16.708029Z",
     "shell.execute_reply.started": "2021-10-01T07:39:16.702785Z"
    }
   },
   "outputs": [],
   "source": [
    "# no outliners in 'Marketing Spend' attribute"
   ]
  },
  {
   "cell_type": "code",
   "execution_count": 17,
   "metadata": {
    "execution": {
     "iopub.execute_input": "2021-10-01T07:39:29.091576Z",
     "iopub.status.busy": "2021-10-01T07:39:29.091237Z",
     "iopub.status.idle": "2021-10-01T07:39:29.342523Z",
     "shell.execute_reply": "2021-10-01T07:39:29.341785Z",
     "shell.execute_reply.started": "2021-10-01T07:39:29.091536Z"
    }
   },
   "outputs": [
    {
     "data": {
      "text/plain": [
       "<AxesSubplot:xlabel='State'>"
      ]
     },
     "execution_count": 17,
     "metadata": {},
     "output_type": "execute_result"
    },
    {
     "data": {
      "image/png": "[encoded data removed]",
      "text/plain": [
       "<Figure size 432x288 with 1 Axes>"
      ]
     },
     "metadata": {
      "needs_background": "light"
     },
     "output_type": "display_data"
    }
   ],
   "source": [
    "sb.boxplot(x=df['State'])"
   ]
  },
  {
   "cell_type": "code",
   "execution_count": 18,
   "metadata": {
    "execution": {
     "iopub.execute_input": "2021-10-01T07:39:41.298709Z",
     "iopub.status.busy": "2021-10-01T07:39:41.297785Z",
     "iopub.status.idle": "2021-10-01T07:39:41.303211Z",
     "shell.execute_reply": "2021-10-01T07:39:41.301933Z",
     "shell.execute_reply.started": "2021-10-01T07:39:41.298675Z"
    }
   },
   "outputs": [],
   "source": [
    "# no outliners in 'State' attribute"
   ]
  },
  {
   "cell_type": "code",
   "execution_count": 19,
   "metadata": {
    "execution": {
     "iopub.execute_input": "2021-10-01T07:39:56.054245Z",
     "iopub.status.busy": "2021-10-01T07:39:56.053677Z",
     "iopub.status.idle": "2021-10-01T07:39:56.509118Z",
     "shell.execute_reply": "2021-10-01T07:39:56.507834Z",
     "shell.execute_reply.started": "2021-10-01T07:39:56.054209Z"
    }
   },
   "outputs": [
    {
     "data": {
      "text/plain": [
       "<AxesSubplot:>"
      ]
     },
     "execution_count": 19,
     "metadata": {},
     "output_type": "execute_result"
    },
    {
     "data": {
      "image/png": "[encoded data removed]",
      "text/plain": [
       "<Figure size 432x288 with 2 Axes>"
      ]
     },
     "metadata": {
      "needs_background": "light"
     },
     "output_type": "display_data"
    }
   ],
   "source": [
    "# using Pearson's correlation method\n",
    "corr = df.corr(method='pearson')\n",
    "sb.heatmap(corr, annot=True)"
   ]
  },
  {
   "cell_type": "code",
   "execution_count": 20,
   "metadata": {
    "execution": {
     "iopub.execute_input": "2021-10-01T07:40:11.020310Z",
     "iopub.status.busy": "2021-10-01T07:40:11.019988Z",
     "iopub.status.idle": "2021-10-01T07:40:17.779420Z",
     "shell.execute_reply": "2021-10-01T07:40:17.778411Z",
     "shell.execute_reply.started": "2021-10-01T07:40:11.020277Z"
    }
   },
   "outputs": [
    {
     "data": {
      "text/plain": [
       "<seaborn.axisgrid.PairGrid at 0x7f6794f2f910>"
      ]
     },
     "execution_count": 20,
     "metadata": {},
     "output_type": "execute_result"
    },
    {
     "data": {
      "image/png": "[encoded data removed]",
      "text/plain": [
       "<Figure size 900x900 with 30 Axes>"
      ]
     },
     "metadata": {
      "needs_background": "light"
     },
     "output_type": "display_data"
    }
   ],
   "source": [
    "sb.pairplot(df)"
   ]
  },
  {
   "cell_type": "code",
   "execution_count": 21,
   "metadata": {
    "execution": {
     "iopub.execute_input": "2021-10-01T07:40:36.791110Z",
     "iopub.status.busy": "2021-10-01T07:40:36.790631Z",
     "iopub.status.idle": "2021-10-01T07:40:36.794218Z",
     "shell.execute_reply": "2021-10-01T07:40:36.793380Z",
     "shell.execute_reply.started": "2021-10-01T07:40:36.791077Z"
    }
   },
   "outputs": [],
   "source": [
    "# 'Profit' is almost linearly dependent on 'R&D Spend' and 'Marketing Spend'"
   ]
  },
  {
   "cell_type": "code",
   "execution_count": 23,
   "metadata": {
    "execution": {
     "iopub.execute_input": "2021-10-01T07:41:00.020417Z",
     "iopub.status.busy": "2021-10-01T07:41:00.020077Z",
     "iopub.status.idle": "2021-10-01T07:41:00.029649Z",
     "shell.execute_reply": "2021-10-01T07:41:00.028331Z",
     "shell.execute_reply.started": "2021-10-01T07:41:00.020381Z"
    }
   },
   "outputs": [],
   "source": [
    "data = df.values\n",
    "X,y = data[:,:-1], data[:,-1]\n",
    "X_train, X_test, y_train, y_test = train_test_split(X, y, test_size = 0.2, random_state = 0)  # splitting in the ration 80:20"
   ]
  },
  {
   "cell_type": "code",
   "execution_count": 24,
   "metadata": {
    "execution": {
     "iopub.execute_input": "2021-10-01T07:41:13.960839Z",
     "iopub.status.busy": "2021-10-01T07:41:13.960486Z",
     "iopub.status.idle": "2021-10-01T07:41:14.159147Z",
     "shell.execute_reply": "2021-10-01T07:41:14.157981Z",
     "shell.execute_reply.started": "2021-10-01T07:41:13.960805Z"
    }
   },
   "outputs": [
    {
     "data": {
      "text/plain": [
       "RandomForestRegressor(random_state=0)"
      ]
     },
     "execution_count": 24,
     "metadata": {},
     "output_type": "execute_result"
    }
   ],
   "source": [
    "model = RandomForestRegressor(random_state=0)\n",
    "model.fit(X_train, y_train)"
   ]
  },
  {
   "cell_type": "code",
   "execution_count": 25,
   "metadata": {
    "execution": {
     "iopub.execute_input": "2021-10-01T07:41:26.009982Z",
     "iopub.status.busy": "2021-10-01T07:41:26.009655Z",
     "iopub.status.idle": "2021-10-01T07:41:26.030825Z",
     "shell.execute_reply": "2021-10-01T07:41:26.029752Z",
     "shell.execute_reply.started": "2021-10-01T07:41:26.009951Z"
    }
   },
   "outputs": [],
   "source": [
    "y_pred = model.predict(X_test)"
   ]
  },
  {
   "cell_type": "code",
   "execution_count": 26,
   "metadata": {
    "execution": {
     "iopub.execute_input": "2021-10-01T07:41:36.345715Z",
     "iopub.status.busy": "2021-10-01T07:41:36.345401Z",
     "iopub.status.idle": "2021-10-01T07:41:36.367588Z",
     "shell.execute_reply": "2021-10-01T07:41:36.366544Z",
     "shell.execute_reply.started": "2021-10-01T07:41:36.345683Z"
    }
   },
   "outputs": [
    {
     "data": {
      "text/plain": [
       "0.9691314428968053"
      ]
     },
     "execution_count": 26,
     "metadata": {},
     "output_type": "execute_result"
    }
   ],
   "source": [
    "model.score(X_test,y_test)"
   ]
  },
  {
   "cell_type": "markdown",
   "metadata": {},
   "source": [
    "\n",
    "## Predictions are 96.91% accurate."
   ]
  }
 ],
 "metadata": {
  "kernelspec": {
   "display_name": "Python 3",
   "language": "python",
   "name": "python3"
  },
  "language_info": {
   "codemirror_mode": {
    "name": "ipython",
    "version": 3
   },
   "file_extension": ".py",
   "mimetype": "text/x-python",
   "name": "python",
   "nbconvert_exporter": "python",
   "pygments_lexer": "ipython3",
   "version": "3.8.8"
  }
 },
 "nbformat": 4,
 "nbformat_minor": 4
}
